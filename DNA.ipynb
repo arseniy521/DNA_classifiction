{
 "cells": [
  {
   "cell_type": "markdown",
   "metadata": {},
   "source": [
    "insert "
   ]
  },
  {
   "cell_type": "code",
   "execution_count": 1,
   "metadata": {},
   "outputs": [],
   "source": [
    "import numpy as np\n",
    "import pandas as pd\n",
    "from sklearn.model_selection import GridSearchCV\n",
    "from sklearn.neighbors import KNeighborsClassifier, KNeighborsRegressor\n",
    "from sklearn.tree import DecisionTreeClassifier\n",
    "from sklearn.metrics import classification_report, accuracy_score\n",
    "from sklearn import model_selection\n"
   ]
  },
  {
   "cell_type": "markdown",
   "metadata": {},
   "source": [
    "create a data frame"
   ]
  },
  {
   "cell_type": "code",
   "execution_count": 2,
   "metadata": {},
   "outputs": [],
   "source": [
    "df = pd.read_csv(\"dna.csv\")\n",
    "classes = df.loc[:, 'class']"
   ]
  },
  {
   "cell_type": "markdown",
   "metadata": {},
   "source": [
    "create X and Y datasets for training\n"
   ]
  },
  {
   "cell_type": "code",
   "execution_count": 3,
   "metadata": {},
   "outputs": [],
   "source": [
    "X = np.array(df.drop(['class'], 1))\n",
    "y = np.array(df['class'])"
   ]
  },
  {
   "cell_type": "markdown",
   "metadata": {},
   "source": [
    "split the data into training and testing datasets"
   ]
  },
  {
   "cell_type": "code",
   "execution_count": 4,
   "metadata": {},
   "outputs": [],
   "source": [
    "X_train, X_test, y_train, y_test = model_selection.train_test_split(X, y, test_size=0.25, random_state=1)"
   ]
  },
  {
   "cell_type": "raw",
   "metadata": {},
   "source": [
    "scoring method"
   ]
  },
  {
   "cell_type": "code",
   "execution_count": 5,
   "metadata": {},
   "outputs": [],
   "source": [
    "scoring = 'accuracy'"
   ]
  },
  {
   "cell_type": "markdown",
   "metadata": {},
   "source": [
    "For this task we choose 2 models Nearest Neighbors and Decision Tree."
   ]
  },
  {
   "cell_type": "code",
   "execution_count": 8,
   "metadata": {},
   "outputs": [],
   "source": [
    "names = [\"Nearest Neighbors\",\n",
    "         \"Decision Tree\", \"Random Forest\"]\n",
    "\n",
    "models = [\n",
    "\n",
    "    KNeighborsClassifier(),\n",
    "    DecisionTreeClassifier(),\n",
    "]\n",
    "\n",
    "models = zip(names, models)\n",
    "result = []"
   ]
  },
  {
   "cell_type": "markdown",
   "metadata": {},
   "source": [
    "Fiting the models and evaluating"
   ]
  },
  {
   "cell_type": "code",
   "execution_count": 9,
   "metadata": {},
   "outputs": [
    {
     "name": "stdout",
     "output_type": "stream",
     "text": [
      "Nearest Neighbors: 0.7789891494083490.014315324981288886\n",
      "Validation Accuracy 0.77\n",
      "Confusion Matrix/n               precision    recall  f1-score   support\n",
      "\n",
      "           1       0.69      0.81      0.74       198\n",
      "           2       0.65      0.91      0.76       188\n",
      "           3       0.94      0.68      0.79       411\n",
      "\n",
      "    accuracy                           0.77       797\n",
      "   macro avg       0.76      0.80      0.76       797\n",
      "weighted avg       0.81      0.77      0.77       797\n",
      "\n",
      "Decision Tree: 0.90037981456628320.01109152288720721\n",
      "Validation Accuracy 0.9\n",
      "Confusion Matrix/n               precision    recall  f1-score   support\n",
      "\n",
      "           1       0.87      0.89      0.88       198\n",
      "           2       0.83      0.90      0.86       188\n",
      "           3       0.96      0.91      0.94       411\n",
      "\n",
      "    accuracy                           0.90       797\n",
      "   macro avg       0.89      0.90      0.89       797\n",
      "weighted avg       0.91      0.90      0.91       797\n",
      "\n"
     ]
    }
   ],
   "source": [
    "for name, model in models:\n",
    "    cv_results = model_selection.cross_val_score(model, X_train, y_train, scoring=scoring)\n",
    "    result.append(cv_results)\n",
    "    print(name + ': ' + str(cv_results.mean()) + ' ' + str(cv_results.std()))\n",
    "    model.fit(X_train, y_train)\n",
    "    predict = model.predict(X_test)\n",
    "    print('Validation Accuracy', round(accuracy_score(y_test, predict), 2))\n",
    "    print(\"Confusion Matrix/n\", classification_report(y_test, predict))"
   ]
  },
  {
   "cell_type": "markdown",
   "metadata": {},
   "source": [
    "let's choose parameters for KNN classifier (for my machine it was not taking more than a minute)"
   ]
  },
  {
   "cell_type": "code",
   "execution_count": 14,
   "metadata": {},
   "outputs": [
    {
     "data": {
      "text/plain": [
       "GridSearchCV(estimator=KNeighborsRegressor(),\n",
       "             param_grid={'n_neighbors': range(1, 50),\n",
       "                         'weights': ['uniform', 'distance']})"
      ]
     },
     "execution_count": 14,
     "metadata": {},
     "output_type": "execute_result"
    }
   ],
   "source": [
    "parameters = {\n",
    "     \"n_neighbors\": range(1, 50),\n",
    "     \"weights\": [\"uniform\", \"distance\"],\n",
    "}\n",
    "gridsearch = GridSearchCV(KNeighborsRegressor(), parameters)\n",
    "gridsearch.fit(X_train, y_train)\n"
   ]
  },
  {
   "cell_type": "code",
   "execution_count": 13,
   "metadata": {},
   "outputs": [
    {
     "name": "stdout",
     "output_type": "stream",
     "text": [
      "KNN parameters {'n_neighbors': 10, 'weights': 'distance'}\n"
     ]
    }
   ],
   "source": [
    "print(\"KNN parameters\", gridsearch.best_params_)\n"
   ]
  },
  {
   "cell_type": "markdown",
   "metadata": {},
   "source": [
    "Substitute parameters to the model and measure the performance."
   ]
  },
  {
   "cell_type": "code",
   "execution_count": 19,
   "metadata": {},
   "outputs": [
    {
     "name": "stdout",
     "output_type": "stream",
     "text": [
      "KNeighborsClassifier: 0.8518161802759577 0.009378235793339263\n",
      "Validation Accuracy 0.84\n",
      "Confusion Matrix/n               precision    recall  f1-score   support\n",
      "\n",
      "           1       0.80      0.84      0.82       198\n",
      "           2       0.73      0.96      0.83       188\n",
      "           3       0.96      0.79      0.87       411\n",
      "\n",
      "    accuracy                           0.84       797\n",
      "   macro avg       0.83      0.87      0.84       797\n",
      "weighted avg       0.86      0.84      0.85       797\n",
      "\n"
     ]
    }
   ],
   "source": [
    "KNN = KNeighborsClassifier(n_neighbors=14, weights='distance')\n",
    "KNN_cv_results = model_selection.cross_val_score(KNN, X_train, y_train, scoring=scoring)\n",
    "print(\"KNeighborsClassifier\" + ': ' + str(KNN_cv_results.mean()) + ' '+ str(KNN_cv_results.std()))\n",
    "KNN.fit(X_train, y_train)\n",
    "KNN_predict = KNN.predict(X_test)\n",
    "print('Validation Accuracy', round(accuracy_score(y_test, KNN_predict), 2))\n",
    "print(\"Confusion Matrix/n\", classification_report(y_test, KNN_predict))"
   ]
  },
  {
   "cell_type": "markdown",
   "metadata": {},
   "source": [
    "It could be summarized the classifier performed more accurate after tuning parameters. "
   ]
  },
  {
   "cell_type": "markdown",
   "metadata": {},
   "source": [
    "Let's choose parameters for DT classifier (for some reason it was not compiling with min_samples_split and min_samples_leaf)"
   ]
  },
  {
   "cell_type": "code",
   "execution_count": 20,
   "metadata": {},
   "outputs": [
    {
     "name": "stdout",
     "output_type": "stream",
     "text": [
      "{'criterion': 'entropy', 'max_depth': 9}\n"
     ]
    }
   ],
   "source": [
    "DT_parameters = {\"criterion\": ['gini', 'entropy'],\n",
    "                 \"max_depth\": range(1, 10),\n",
    "                 # \"min_samples_split\": range(1, 10),\n",
    "                 # \"min_samples_leaf\": range(1, 5),\n",
    "}\n",
    "DT_grid = GridSearchCV(DecisionTreeClassifier(), DT_parameters)\n",
    "DT_grid.fit(X_train, y_train)\n",
    "print(DT_grid.best_params_)\n"
   ]
  },
  {
   "cell_type": "markdown",
   "metadata": {},
   "source": [
    "Substitute parameters to the model and measure the performance. "
   ]
  },
  {
   "cell_type": "code",
   "execution_count": 21,
   "metadata": {},
   "outputs": [
    {
     "name": "stdout",
     "output_type": "stream",
     "text": [
      "DecisionTreeClassifier: 0.9003798145662832 0.01109152288720721\n",
      "Validation Accuracy 0.93\n",
      "Confusion Matrix/n               precision    recall  f1-score   support\n",
      "\n",
      "           1       0.90      0.92      0.91       198\n",
      "           2       0.87      0.95      0.91       188\n",
      "           3       0.98      0.92      0.95       411\n",
      "\n",
      "    accuracy                           0.93       797\n",
      "   macro avg       0.91      0.93      0.92       797\n",
      "weighted avg       0.93      0.93      0.93       797\n",
      "\n"
     ]
    }
   ],
   "source": [
    "DT = DecisionTreeClassifier(max_depth=7, criterion='entropy')\n",
    "DT_cv_results = model_selection.cross_val_score(DT, X_train, y_train, scoring=scoring)\n",
    "print(\"DecisionTreeClassifier\" + ': ' + str(cv_results.mean()) + ' ' + str(cv_results.std()))\n",
    "DT.fit(X_train, y_train)\n",
    "DT_predict = DT.predict(X_test)\n",
    "print('Validation Accuracy', round(accuracy_score(y_test, DT_predict), 2))\n",
    "print(\"Confusion Matrix/n\", classification_report(y_test, DT_predict))"
   ]
  },
  {
   "cell_type": "markdown",
   "metadata": {},
   "source": [
    "We can conclude that DecisionTreeClassifier is more accurate for this task. However, tuning of parameters did not affect the accuracy much but, it did increase precision. "
   ]
  }
 ],
 "metadata": {
  "kernelspec": {
   "display_name": "Python 3",
   "language": "python",
   "name": "python3"
  },
  "language_info": {
   "codemirror_mode": {
    "name": "ipython",
    "version": 3
   },
   "file_extension": ".py",
   "mimetype": "text/x-python",
   "name": "python",
   "nbconvert_exporter": "python",
   "pygments_lexer": "ipython3",
   "version": "3.8.5"
  }
 },
 "nbformat": 4,
 "nbformat_minor": 4
}
